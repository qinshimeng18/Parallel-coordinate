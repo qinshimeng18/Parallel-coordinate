{
 "cells": [
  {
   "cell_type": "markdown",
   "metadata": {},
   "source": [
    "- Which majors are most affected by the influx/outflux of students?  \n",
    "- Which majors have had an increase or decrease in measured interest over time?  \n",
    "- Which majors have experienced differences in follow-through of students over time?  "
   ]
  },
  {
   "cell_type": "code",
   "execution_count": 1,
   "metadata": {},
   "outputs": [
    {
     "name": "stdout",
     "output_type": "stream",
     "text": [
      "Populating the interactive namespace from numpy and matplotlib\n"
     ]
    }
   ],
   "source": [
    "%matplotlib inline\n",
    "%pylab inline\n",
    "import pandas as pd\n",
    "import seaborn as sns\n",
    "import numpy as np\n",
    "import matplotlib.pyplot as plt\n",
    "from IPython.display import HTML,display"
   ]
  },
  {
   "cell_type": "code",
   "execution_count": 2,
   "metadata": {},
   "outputs": [
    {
     "data": {
      "text/html": [
       "<div>\n",
       "<table border=\"1\" class=\"dataframe\">\n",
       "  <thead>\n",
       "    <tr style=\"text-align: right;\">\n",
       "      <th></th>\n",
       "      <th>Gender</th>\n",
       "      <th>actcat</th>\n",
       "      <th>T1_Level2</th>\n",
       "      <th>T2_Level2</th>\n",
       "      <th>T3_Level2</th>\n",
       "      <th>T1_IMFIT</th>\n",
       "      <th>T2_IMFIT</th>\n",
       "      <th>T3_IMFIT</th>\n",
       "      <th>YR1</th>\n",
       "      <th>YR2</th>\n",
       "      <th>transfer</th>\n",
       "      <th>HighestLevel2</th>\n",
       "      <th>count</th>\n",
       "    </tr>\n",
       "  </thead>\n",
       "  <tbody>\n",
       "    <tr>\n",
       "      <th>0</th>\n",
       "      <td>Female</td>\n",
       "      <td>1-15</td>\n",
       "      <td>Agric. &amp; Nat. Res. Cons</td>\n",
       "      <td>Agric. &amp; Nat. Res. Cons</td>\n",
       "      <td>Agric. &amp; Nat. Res. Cons</td>\n",
       "      <td>Good</td>\n",
       "      <td>Good</td>\n",
       "      <td>Good</td>\n",
       "      <td>2-year</td>\n",
       "      <td>2-year</td>\n",
       "      <td>0</td>\n",
       "      <td>Agric. &amp; Nat. Res. Cons</td>\n",
       "      <td>1</td>\n",
       "    </tr>\n",
       "    <tr>\n",
       "      <th>1</th>\n",
       "      <td>Female</td>\n",
       "      <td>1-15</td>\n",
       "      <td>Agric. &amp; Nat. Res. Cons</td>\n",
       "      <td>Agric. &amp; Nat. Res. Cons</td>\n",
       "      <td>Agric. &amp; Nat. Res. Cons</td>\n",
       "      <td>Good</td>\n",
       "      <td>Good</td>\n",
       "      <td>Good</td>\n",
       "      <td>2-year</td>\n",
       "      <td>2-year</td>\n",
       "      <td>0</td>\n",
       "      <td>Eng. Tech. &amp; Drafting</td>\n",
       "      <td>1</td>\n",
       "    </tr>\n",
       "    <tr>\n",
       "      <th>2</th>\n",
       "      <td>Female</td>\n",
       "      <td>1-15</td>\n",
       "      <td>Agric. &amp; Nat. Res. Cons</td>\n",
       "      <td>Agric. &amp; Nat. Res. Cons</td>\n",
       "      <td>Agric. &amp; Nat. Res. Cons</td>\n",
       "      <td>Good</td>\n",
       "      <td>Good</td>\n",
       "      <td>Good</td>\n",
       "      <td>2-year</td>\n",
       "      <td>2-year</td>\n",
       "      <td>0</td>\n",
       "      <td>Health Admin. &amp; Assisting</td>\n",
       "      <td>1</td>\n",
       "    </tr>\n",
       "    <tr>\n",
       "      <th>3</th>\n",
       "      <td>Female</td>\n",
       "      <td>1-15</td>\n",
       "      <td>Agric. &amp; Nat. Res. Cons</td>\n",
       "      <td>Agric. &amp; Nat. Res. Cons</td>\n",
       "      <td>Agric. &amp; Nat. Res. Cons</td>\n",
       "      <td>Good</td>\n",
       "      <td>Moderate</td>\n",
       "      <td>Moderate</td>\n",
       "      <td>4-year</td>\n",
       "      <td>4-year</td>\n",
       "      <td>0</td>\n",
       "      <td>Commun, Fam., &amp; Personal Svcs</td>\n",
       "      <td>1</td>\n",
       "    </tr>\n",
       "    <tr>\n",
       "      <th>4</th>\n",
       "      <td>Female</td>\n",
       "      <td>1-15</td>\n",
       "      <td>Agric. &amp; Nat. Res. Cons</td>\n",
       "      <td>Agric. &amp; Nat. Res. Cons</td>\n",
       "      <td>Agric. &amp; Nat. Res. Cons</td>\n",
       "      <td>Good</td>\n",
       "      <td>Moderate</td>\n",
       "      <td>Moderate</td>\n",
       "      <td>4-year</td>\n",
       "      <td>4-year</td>\n",
       "      <td>0</td>\n",
       "      <td>Education</td>\n",
       "      <td>1</td>\n",
       "    </tr>\n",
       "  </tbody>\n",
       "</table>\n",
       "</div>"
      ],
      "text/plain": [
       "   Gender actcat                T1_Level2                T2_Level2  \\\n",
       "0  Female   1-15  Agric. & Nat. Res. Cons  Agric. & Nat. Res. Cons   \n",
       "1  Female   1-15  Agric. & Nat. Res. Cons  Agric. & Nat. Res. Cons   \n",
       "2  Female   1-15  Agric. & Nat. Res. Cons  Agric. & Nat. Res. Cons   \n",
       "3  Female   1-15  Agric. & Nat. Res. Cons  Agric. & Nat. Res. Cons   \n",
       "4  Female   1-15  Agric. & Nat. Res. Cons  Agric. & Nat. Res. Cons   \n",
       "\n",
       "                 T3_Level2 T1_IMFIT  T2_IMFIT  T3_IMFIT     YR1     YR2  \\\n",
       "0  Agric. & Nat. Res. Cons     Good      Good      Good  2-year  2-year   \n",
       "1  Agric. & Nat. Res. Cons     Good      Good      Good  2-year  2-year   \n",
       "2  Agric. & Nat. Res. Cons     Good      Good      Good  2-year  2-year   \n",
       "3  Agric. & Nat. Res. Cons     Good  Moderate  Moderate  4-year  4-year   \n",
       "4  Agric. & Nat. Res. Cons     Good  Moderate  Moderate  4-year  4-year   \n",
       "\n",
       "   transfer                  HighestLevel2  count  \n",
       "0         0        Agric. & Nat. Res. Cons      1  \n",
       "1         0          Eng. Tech. & Drafting      1  \n",
       "2         0      Health Admin. & Assisting      1  \n",
       "3         0  Commun, Fam., & Personal Svcs      1  \n",
       "4         0                      Education      1  "
      ]
     },
     "execution_count": 2,
     "metadata": {},
     "output_type": "execute_result"
    }
   ],
   "source": [
    "df = pd.read_csv(\"student_flow_aggregated_file.csv\")\n",
    "df.head()"
   ]
  },
  {
   "cell_type": "code",
   "execution_count": 7,
   "metadata": {
    "collapsed": true
   },
   "outputs": [],
   "source": [
    "# df.groupby(['Gender','actcat','T1_Level2','T2_Level2','T3_Level2','T1_IMFIT','T2_IMFIT','T3_IMFIT','YR1', 'YR2','transfer','HighestLevel2']).sum()"
   ]
  },
  {
   "cell_type": "code",
   "execution_count": 8,
   "metadata": {
    "scrolled": false
   },
   "outputs": [
    {
     "data": {
      "text/html": [
       "<div>\n",
       "<table border=\"1\" class=\"dataframe\">\n",
       "  <thead>\n",
       "    <tr style=\"text-align: right;\">\n",
       "      <th></th>\n",
       "      <th>T1_Level2</th>\n",
       "      <th>actcat</th>\n",
       "      <th>T1_IMFIT</th>\n",
       "      <th>HighestLevel2</th>\n",
       "      <th>Gender</th>\n",
       "    </tr>\n",
       "  </thead>\n",
       "  <tbody>\n",
       "    <tr>\n",
       "      <th>0</th>\n",
       "      <td>Agric. &amp; Nat. Res. Cons</td>\n",
       "      <td>1-15</td>\n",
       "      <td>Good</td>\n",
       "      <td>Agric. &amp; Nat. Res. Cons</td>\n",
       "      <td>Female</td>\n",
       "    </tr>\n",
       "  </tbody>\n",
       "</table>\n",
       "</div>"
      ],
      "text/plain": [
       "                 T1_Level2 actcat T1_IMFIT            HighestLevel2  Gender\n",
       "0  Agric. & Nat. Res. Cons   1-15     Good  Agric. & Nat. Res. Cons  Female"
      ]
     },
     "execution_count": 8,
     "metadata": {},
     "output_type": "execute_result"
    }
   ],
   "source": [
    "df1 = df[['T1_Level2','actcat','T1_IMFIT','HighestLevel2','Gender']]\n",
    "df1.head(1)"
   ]
  },
  {
   "cell_type": "code",
   "execution_count": 37,
   "metadata": {},
   "outputs": [
    {
     "data": {
      "text/plain": [
       "(1, 10)"
      ]
     },
     "execution_count": 37,
     "metadata": {},
     "output_type": "execute_result"
    }
   ],
   "source": [
    "np.random.randn(df1.shape[0],1).shape"
   ]
  },
  {
   "cell_type": "code",
   "execution_count": 43,
   "metadata": {},
   "outputs": [
    {
     "data": {
      "text/plain": [
       "-1.0314451567961993"
      ]
     },
     "execution_count": 43,
     "metadata": {},
     "output_type": "execute_result"
    }
   ],
   "source": []
  },
  {
   "cell_type": "code",
   "execution_count": 47,
   "metadata": {
    "collapsed": true
   },
   "outputs": [],
   "source": [
    "dfnp = np.array(df1)\n",
    "for i in range(dfnp.shape[0]):\n",
    "    act = dfnp[i,1]\n",
    "    a = act.split('-')\n",
    "    dfnp[i,1] = (int(a[0])+int(a[1]))/2+np.random.randn()"
   ]
  },
  {
   "cell_type": "code",
   "execution_count": 60,
   "metadata": {
    "collapsed": true
   },
   "outputs": [],
   "source": [
    "df1 = pd.DataFrame(dfnp)"
   ]
  },
  {
   "cell_type": "code",
   "execution_count": 61,
   "metadata": {
    "scrolled": true
   },
   "outputs": [
    {
     "data": {
      "text/html": [
       "<div>\n",
       "<table border=\"1\" class=\"dataframe\">\n",
       "  <thead>\n",
       "    <tr style=\"text-align: right;\">\n",
       "      <th></th>\n",
       "      <th>transfer</th>\n",
       "      <th>count</th>\n",
       "    </tr>\n",
       "  </thead>\n",
       "  <tbody>\n",
       "    <tr>\n",
       "      <th>count</th>\n",
       "      <td>101048.000000</td>\n",
       "      <td>101048.000000</td>\n",
       "    </tr>\n",
       "    <tr>\n",
       "      <th>mean</th>\n",
       "      <td>0.136826</td>\n",
       "      <td>2.326657</td>\n",
       "    </tr>\n",
       "    <tr>\n",
       "      <th>std</th>\n",
       "      <td>0.343665</td>\n",
       "      <td>10.088561</td>\n",
       "    </tr>\n",
       "    <tr>\n",
       "      <th>min</th>\n",
       "      <td>0.000000</td>\n",
       "      <td>1.000000</td>\n",
       "    </tr>\n",
       "    <tr>\n",
       "      <th>25%</th>\n",
       "      <td>0.000000</td>\n",
       "      <td>1.000000</td>\n",
       "    </tr>\n",
       "    <tr>\n",
       "      <th>50%</th>\n",
       "      <td>0.000000</td>\n",
       "      <td>1.000000</td>\n",
       "    </tr>\n",
       "    <tr>\n",
       "      <th>75%</th>\n",
       "      <td>0.000000</td>\n",
       "      <td>1.000000</td>\n",
       "    </tr>\n",
       "    <tr>\n",
       "      <th>max</th>\n",
       "      <td>1.000000</td>\n",
       "      <td>880.000000</td>\n",
       "    </tr>\n",
       "  </tbody>\n",
       "</table>\n",
       "</div>"
      ],
      "text/plain": [
       "            transfer          count\n",
       "count  101048.000000  101048.000000\n",
       "mean        0.136826       2.326657\n",
       "std         0.343665      10.088561\n",
       "min         0.000000       1.000000\n",
       "25%         0.000000       1.000000\n",
       "50%         0.000000       1.000000\n",
       "75%         0.000000       1.000000\n",
       "max         1.000000     880.000000"
      ]
     },
     "execution_count": 61,
     "metadata": {},
     "output_type": "execute_result"
    }
   ],
   "source": [
    "df[df['count']>0].describe()"
   ]
  },
  {
   "cell_type": "code",
   "execution_count": 63,
   "metadata": {
    "collapsed": true
   },
   "outputs": [],
   "source": [
    "df1_random = df1.sample(frac=1).reset_index(drop=True)\n"
   ]
  },
  {
   "cell_type": "code",
   "execution_count": 67,
   "metadata": {
    "collapsed": true,
    "scrolled": false
   },
   "outputs": [],
   "source": [
    "out1 = []\n",
    "for i in df1_random.values[:800]:\n",
    "    out1.append(list(i))\n",
    "#     break\n",
    "with open('temp.txt','w') as f:\n",
    "    f.write(str(out1))"
   ]
  },
  {
   "cell_type": "code",
   "execution_count": 11,
   "metadata": {
    "collapsed": true,
    "scrolled": false
   },
   "outputs": [],
   "source": [
    "# -*- coding: utf-8 -*-\n",
    "import tushare as ts\n",
    "import pandas as pd\n",
    "from IPython.display import HTML\n",
    "import sys\n",
    "reload(sys)\n",
    "sys.setdefaultencoding(\"utf-8\")\n",
    "%matplotlib inline\n",
    "%pylab inline"
   ]
  },
  {
   "cell_type": "code",
   "execution_count": 73,
   "metadata": {
    "collapsed": true,
    "scrolled": false
   },
   "outputs": [],
   "source": [
    "headstr = \"\"\"\n",
    "\n",
    "<!DOCTYPE html>\n",
    "<html>\n",
    "<head>\n",
    "    <meta charset=\"utf-8\">\n",
    "    <title>ECharts</title>\n",
    "    <script src=\"./echarts.js\"></script>\n",
    "</head>\n",
    "<body>\n",
    "    <!-- 为ECharts准备一个具备大小（宽高）的Dom -->\n",
    "    <div id=\"main\" style=\"width: 600px;height:400px;\"></div>\n",
    "    <script type=\"text/javascript\">\n",
    "        // 基于准备好的dom，初始化echarts实例\n",
    "        var myChart = '';\n",
    "        require.config({ paths:{ echarts: './echarts.js'}});\n",
    "        require(['echarts'],function(ec){\n",
    "        myChart = ec.init(document.getElementById('main'));\n",
    "        myChart.setOption(option);\n",
    "    });\n",
    "\n",
    "        // 指定图表的配置项和数据\n",
    "        var option = {\n",
    "            title: {\n",
    "                text: 'ECharts 入门示例'\n",
    "            },\n",
    "            tooltip: {},\n",
    "            legend: {\n",
    "                data:['销量']\n",
    "            },\n",
    "            xAxis: {\n",
    "                data: [\"衬衫\",\"羊毛衫\",\"雪纺衫\",\"裤子\",\"高跟鞋\",\"袜子\"]\n",
    "            },\n",
    "            yAxis: {},\n",
    "            series: [{\n",
    "                name: '销量',\n",
    "                type: 'bar',\n",
    "                data: [5, 20, 36, 10, 10, 20]\n",
    "            }]\n",
    "        };\n",
    "\n",
    "        // 使用刚指定的配置项和数据显示图表。\n",
    "    </script>\n",
    "</body>\n",
    "</html>\n",
    "\"\"\"\n",
    "\n",
    "tailstr = \"\"\"\n",
    "myChart.setOption(option);\n",
    "    });\n",
    "</script>\n",
    "\"\"\"\n",
    "display(HTML(headstr+'<h2>23</h2>'))\n"
   ]
  },
  {
   "cell_type": "code",
   "execution_count": null,
   "metadata": {
    "collapsed": true
   },
   "outputs": [],
   "source": []
  },
  {
   "cell_type": "code",
   "execution_count": null,
   "metadata": {
    "collapsed": true
   },
   "outputs": [],
   "source": []
  },
  {
   "cell_type": "code",
   "execution_count": null,
   "metadata": {
    "collapsed": true
   },
   "outputs": [],
   "source": []
  },
  {
   "cell_type": "code",
   "execution_count": null,
   "metadata": {
    "collapsed": true
   },
   "outputs": [],
   "source": []
  },
  {
   "cell_type": "code",
   "execution_count": null,
   "metadata": {
    "collapsed": true
   },
   "outputs": [],
   "source": []
  },
  {
   "cell_type": "code",
   "execution_count": null,
   "metadata": {
    "collapsed": true
   },
   "outputs": [],
   "source": []
  },
  {
   "cell_type": "code",
   "execution_count": 48,
   "metadata": {
    "collapsed": true,
    "scrolled": true
   },
   "outputs": [],
   "source": [
    "g = df.groupby(['T1_Level2']).sum()\n",
    "del g['transfer']\n",
    "g['name'] = g.index\n",
    "g.columns.values[0] = 'value'\n",
    "g.to_json('T1_Level2.json',orient='records')"
   ]
  },
  {
   "cell_type": "code",
   "execution_count": 49,
   "metadata": {
    "collapsed": true
   },
   "outputs": [],
   "source": [
    "# g = df.groupby(['T1_Level2','T1_IMFIT']).sum()\n",
    "# del g['transfer']\n",
    "# g.get_values\n",
    "# g['count']\n",
    "# g['name'] = g.index\n",
    "fit1 = []\n",
    "fit2 = []\n",
    "fit3 = []\n",
    "for (k1, k2), group in df.groupby(['T1_Level2','T1_IMFIT']):\n",
    "    if k2 == 'Good':\n",
    "        fit1.append({'name':k1,'value':group['count'].sum()})\n",
    "    if k2 == 'Moderate':\n",
    "        fit2.append({'name':k1,'value':group['count'].sum()})\n",
    "    if k2 == 'Poor':\n",
    "        fit3.append({'name':k1,'value':group['count'].sum()})\n",
    "pd.DataFrame(fit1).to_json('1fit1.json',orient='records')\n",
    "#     print k1,k2\n",
    "#     print group\n",
    "# g\n",
    "# g.columns.values[0] = 'value'\n",
    "# g.to_json('T1_Level2',orient='records')"
   ]
  },
  {
   "cell_type": "code",
   "execution_count": null,
   "metadata": {
    "collapsed": true
   },
   "outputs": [],
   "source": []
  },
  {
   "cell_type": "code",
   "execution_count": 50,
   "metadata": {},
   "outputs": [
    {
     "ename": "NameError",
     "evalue": "name 'data' is not defined",
     "output_type": "error",
     "traceback": [
      "\u001b[0;31m---------------------------------------------------------------------------\u001b[0m",
      "\u001b[0;31mNameError\u001b[0m                                 Traceback (most recent call last)",
      "\u001b[0;32m<ipython-input-50-6137cde4893c>\u001b[0m in \u001b[0;36m<module>\u001b[0;34m()\u001b[0m\n\u001b[0;32m----> 1\u001b[0;31m \u001b[0mdata\u001b[0m\u001b[0;34m\u001b[0m\u001b[0m\n\u001b[0m",
      "\u001b[0;31mNameError\u001b[0m: name 'data' is not defined"
     ]
    }
   ],
   "source": [
    "pd.DataFrame([{}])"
   ]
  },
  {
   "cell_type": "code",
   "execution_count": 51,
   "metadata": {},
   "outputs": [
    {
     "ename": "IOError",
     "evalue": "[Errno 2] No such file or directory: 'name'",
     "output_type": "error",
     "traceback": [
      "\u001b[0;31m---------------------------------------------------------------------------\u001b[0m",
      "\u001b[0;31mIOError\u001b[0m                                   Traceback (most recent call last)",
      "\u001b[0;32m<ipython-input-51-a4606fc99e98>\u001b[0m in \u001b[0;36m<module>\u001b[0;34m()\u001b[0m\n\u001b[1;32m      1\u001b[0m \u001b[0mret\u001b[0m \u001b[0;34m=\u001b[0m \u001b[0;34m[\u001b[0m\u001b[0;34m]\u001b[0m\u001b[0;34m\u001b[0m\u001b[0m\n\u001b[0;32m----> 2\u001b[0;31m \u001b[0;32mwith\u001b[0m \u001b[0mopen\u001b[0m\u001b[0;34m(\u001b[0m\u001b[0;34m'name'\u001b[0m\u001b[0;34m,\u001b[0m\u001b[0;34m'r'\u001b[0m\u001b[0;34m)\u001b[0m\u001b[0;34m:\u001b[0m\u001b[0;34m\u001b[0m\u001b[0m\n\u001b[0m\u001b[1;32m      3\u001b[0m     \u001b[0;32mfor\u001b[0m \u001b[0mline\u001b[0m \u001b[0;32min\u001b[0m \u001b[0mf\u001b[0m\u001b[0;34m.\u001b[0m\u001b[0mreadlines\u001b[0m\u001b[0;34m(\u001b[0m\u001b[0;34m)\u001b[0m\u001b[0;34m:\u001b[0m\u001b[0;34m\u001b[0m\u001b[0m\n\u001b[1;32m      4\u001b[0m         \u001b[0mflag\u001b[0m \u001b[0;34m=\u001b[0m \u001b[0;36m0\u001b[0m\u001b[0;34m\u001b[0m\u001b[0m\n\u001b[1;32m      5\u001b[0m         \u001b[0;32mfor\u001b[0m \u001b[0mcolumn\u001b[0m \u001b[0;32min\u001b[0m \u001b[0mline\u001b[0m\u001b[0;34m.\u001b[0m\u001b[0msplit\u001b[0m\u001b[0;34m(\u001b[0m\u001b[0;34m','\u001b[0m\u001b[0;34m)\u001b[0m\u001b[0;34m:\u001b[0m\u001b[0;34m\u001b[0m\u001b[0m\n",
      "\u001b[0;31mIOError\u001b[0m: [Errno 2] No such file or directory: 'name'"
     ]
    }
   ],
   "source": [
    "ret = []\n",
    "with open('name','r'):\n",
    "    for line in f.readlines():\n",
    "        flag = 0\n",
    "        for column in line.split(','):\n",
    "            if column == 'NULL' or column == '0':\n",
    "                flag = 1\n",
    "        if flag:\n",
    "            ret.append(['NAN','NAN','NAN','NAN','NAN','NAN',])\n",
    "        else:\n",
    "            ret.append(line.split(','))\n",
    "            "
   ]
  },
  {
   "cell_type": "code",
   "execution_count": null,
   "metadata": {
    "collapsed": true
   },
   "outputs": [],
   "source": [
    "import pandas as pd\n",
    "df = pd.read_csv('name')\n",
    "for column in df.columns:\n",
    "    df[column] == \n"
   ]
  }
 ],
 "metadata": {
  "hide_input": false,
  "kernelspec": {
   "display_name": "Python 2",
   "language": "python",
   "name": "python2"
  },
  "language_info": {
   "codemirror_mode": {
    "name": "ipython",
    "version": 2
   },
   "file_extension": ".py",
   "mimetype": "text/x-python",
   "name": "python",
   "nbconvert_exporter": "python",
   "pygments_lexer": "ipython2",
   "version": "2.7.13"
  },
  "varInspector": {
   "cols": {
    "lenName": 16,
    "lenType": 16,
    "lenVar": 40
   },
   "kernels_config": {
    "python": {
     "delete_cmd_postfix": "",
     "delete_cmd_prefix": "del ",
     "library": "var_list.py",
     "varRefreshCmd": "print(var_dic_list())"
    },
    "r": {
     "delete_cmd_postfix": ") ",
     "delete_cmd_prefix": "rm(",
     "library": "var_list.r",
     "varRefreshCmd": "cat(var_dic_list()) "
    }
   },
   "types_to_exclude": [
    "module",
    "function",
    "builtin_function_or_method",
    "instance",
    "_Feature"
   ],
   "window_display": false
  }
 },
 "nbformat": 4,
 "nbformat_minor": 2
}
