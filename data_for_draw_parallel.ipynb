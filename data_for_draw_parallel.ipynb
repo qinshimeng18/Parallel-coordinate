{
 "cells": [
  {
   "cell_type": "code",
   "execution_count": 58,
   "metadata": {},
   "outputs": [
    {
     "name": "stdout",
     "output_type": "stream",
     "text": [
      "Populating the interactive namespace from numpy and matplotlib\n"
     ]
    }
   ],
   "source": [
    "%matplotlib inline\n",
    "%pylab inline\n",
    "import pandas as pd\n",
    "import seaborn as sns\n",
    "import numpy as np\n",
    "\n",
    "import matplotlib.pyplot as plt\n",
    "from IPython.display import HTML,display"
   ]
  },
  {
   "cell_type": "code",
   "execution_count": 59,
   "metadata": {
    "scrolled": false
   },
   "outputs": [],
   "source": [
    "df = pd.read_csv(\"student_flow_aggregated_file.csv\")"
   ]
  },
  {
   "cell_type": "code",
   "execution_count": 60,
   "metadata": {
    "scrolled": false
   },
   "outputs": [
    {
     "name": "stdout",
     "output_type": "stream",
     "text": [
      "(1345, 7)\n"
     ]
    },
    {
     "data": {
      "text/html": [
       "<div>\n",
       "<table border=\"1\" class=\"dataframe\">\n",
       "  <thead>\n",
       "    <tr style=\"text-align: right;\">\n",
       "      <th></th>\n",
       "      <th>T1_Level2</th>\n",
       "      <th>actcat</th>\n",
       "      <th>Gender</th>\n",
       "      <th>T1_IMFIT</th>\n",
       "      <th>T2_Level2</th>\n",
       "      <th>T2_IMFIT</th>\n",
       "      <th>T3_Level2</th>\n",
       "    </tr>\n",
       "  </thead>\n",
       "  <tbody>\n",
       "    <tr>\n",
       "      <th>0</th>\n",
       "      <td>Business</td>\n",
       "      <td>24-27</td>\n",
       "      <td>Male</td>\n",
       "      <td>Good</td>\n",
       "      <td>Social Sciences &amp; Law</td>\n",
       "      <td>Good</td>\n",
       "      <td>Social Sciences &amp; Law</td>\n",
       "    </tr>\n",
       "    <tr>\n",
       "      <th>1</th>\n",
       "      <td>Engineering</td>\n",
       "      <td>24-27</td>\n",
       "      <td>Male</td>\n",
       "      <td>Good</td>\n",
       "      <td>Engineering</td>\n",
       "      <td>Good</td>\n",
       "      <td>Engineering</td>\n",
       "    </tr>\n",
       "    <tr>\n",
       "      <th>2</th>\n",
       "      <td>Business</td>\n",
       "      <td>28-32</td>\n",
       "      <td>Male</td>\n",
       "      <td>Good</td>\n",
       "      <td>Social Sciences &amp; Law</td>\n",
       "      <td>Poor</td>\n",
       "      <td>Social Sciences &amp; Law</td>\n",
       "    </tr>\n",
       "    <tr>\n",
       "      <th>3</th>\n",
       "      <td>Engineering</td>\n",
       "      <td>28-32</td>\n",
       "      <td>Female</td>\n",
       "      <td>Poor</td>\n",
       "      <td>Engineering</td>\n",
       "      <td>Poor</td>\n",
       "      <td>Engineering</td>\n",
       "    </tr>\n",
       "    <tr>\n",
       "      <th>4</th>\n",
       "      <td>Sciences: Biological &amp; Physical</td>\n",
       "      <td>20-23</td>\n",
       "      <td>Female</td>\n",
       "      <td>Good</td>\n",
       "      <td>Sciences: Biological &amp; Physical</td>\n",
       "      <td>Good</td>\n",
       "      <td>Sciences: Biological &amp; Physical</td>\n",
       "    </tr>\n",
       "  </tbody>\n",
       "</table>\n",
       "</div>"
      ],
      "text/plain": [
       "                         T1_Level2 actcat  Gender T1_IMFIT  \\\n",
       "0                         Business  24-27    Male     Good   \n",
       "1                      Engineering  24-27    Male     Good   \n",
       "2                         Business  28-32    Male     Good   \n",
       "3                      Engineering  28-32  Female     Poor   \n",
       "4  Sciences: Biological & Physical  20-23  Female     Good   \n",
       "\n",
       "                         T2_Level2 T2_IMFIT                        T3_Level2  \n",
       "0            Social Sciences & Law     Good            Social Sciences & Law  \n",
       "1                      Engineering     Good                      Engineering  \n",
       "2            Social Sciences & Law     Poor            Social Sciences & Law  \n",
       "3                      Engineering     Poor                      Engineering  \n",
       "4  Sciences: Biological & Physical     Good  Sciences: Biological & Physical  "
      ]
     },
     "execution_count": 60,
     "metadata": {},
     "output_type": "execute_result"
    }
   ],
   "source": [
    "df = df[df['count']>2]\n",
    "df = df.sample(frac = 0.1,weights='count',replace=1)\n",
    "dfs = df[['T1_Level2','actcat','Gender','T1_IMFIT','T2_Level2','T2_IMFIT','T3_Level2']].copy()\n",
    "dfs.set_index(np.arange(dfs.shape[0]),inplace=1)\n",
    "print dfs.shape\n",
    "dfs.head()"
   ]
  },
  {
   "cell_type": "code",
   "execution_count": 61,
   "metadata": {
    "scrolled": true
   },
   "outputs": [
    {
     "data": {
      "text/html": [
       "<div>\n",
       "<table border=\"1\" class=\"dataframe\">\n",
       "  <thead>\n",
       "    <tr style=\"text-align: right;\">\n",
       "      <th></th>\n",
       "      <th>T1_Level2</th>\n",
       "      <th>actcat</th>\n",
       "      <th>Gender</th>\n",
       "      <th>T1_IMFIT</th>\n",
       "      <th>T2_Level2</th>\n",
       "      <th>T2_IMFIT</th>\n",
       "      <th>T3_Level2</th>\n",
       "    </tr>\n",
       "  </thead>\n",
       "  <tbody>\n",
       "    <tr>\n",
       "      <th>0</th>\n",
       "      <td>Business</td>\n",
       "      <td>25.9711</td>\n",
       "      <td>Male</td>\n",
       "      <td>3.06177</td>\n",
       "      <td>Social Sciences &amp; Law</td>\n",
       "      <td>2.93769</td>\n",
       "      <td>Social Sciences &amp; Law</td>\n",
       "    </tr>\n",
       "    <tr>\n",
       "      <th>1</th>\n",
       "      <td>Engineering</td>\n",
       "      <td>26.5105</td>\n",
       "      <td>Male</td>\n",
       "      <td>3.04254</td>\n",
       "      <td>Engineering</td>\n",
       "      <td>3.14945</td>\n",
       "      <td>Engineering</td>\n",
       "    </tr>\n",
       "    <tr>\n",
       "      <th>2</th>\n",
       "      <td>Business</td>\n",
       "      <td>30.0155</td>\n",
       "      <td>Male</td>\n",
       "      <td>2.87191</td>\n",
       "      <td>Social Sciences &amp; Law</td>\n",
       "      <td>0.981001</td>\n",
       "      <td>Social Sciences &amp; Law</td>\n",
       "    </tr>\n",
       "  </tbody>\n",
       "</table>\n",
       "</div>"
      ],
      "text/plain": [
       "     T1_Level2   actcat Gender T1_IMFIT              T2_Level2  T2_IMFIT  \\\n",
       "0     Business  25.9711   Male  3.06177  Social Sciences & Law   2.93769   \n",
       "1  Engineering  26.5105   Male  3.04254            Engineering   3.14945   \n",
       "2     Business  30.0155   Male  2.87191  Social Sciences & Law  0.981001   \n",
       "\n",
       "               T3_Level2  \n",
       "0  Social Sciences & Law  \n",
       "1            Engineering  \n",
       "2  Social Sciences & Law  "
      ]
     },
     "execution_count": 61,
     "metadata": {},
     "output_type": "execute_result"
    }
   ],
   "source": [
    "for i in range(dfs.shape[0]):\n",
    "    act = dfs.loc[i,'actcat']\n",
    "    a   = act.split('-')\n",
    "    dfs.loc[i,'actcat'] = float((int(a[0])+int(a[1])))/2.0+np.random.randn()*0.6\n",
    "    gender = dfs.iloc[i,3]\n",
    "    if gender == 'Good':\n",
    "        dfs.iloc[i,3] = 3+np.random.randn()*0.1\n",
    "    elif gender == 'Moderate':\n",
    "        dfs.iloc[i,3] = 2+np.random.randn()*0.1\n",
    "    else:\n",
    "        dfs.iloc[i,3] = 1+np.random.randn()*0.1\n",
    "    \n",
    "    gender = dfs.iloc[i,5]\n",
    "    if gender == 'Good':\n",
    "        dfs.iloc[i,5] = 3+np.random.randn()*0.1\n",
    "    elif gender == 'Moderate':\n",
    "        dfs.iloc[i,5] = 2+np.random.randn()*0.1\n",
    "    else:\n",
    "        dfs.iloc[i,5] = 1+np.random.randn()*0.1\n",
    "dfs.head(3)"
   ]
  },
  {
   "cell_type": "code",
   "execution_count": 62,
   "metadata": {},
   "outputs": [
    {
     "data": {
      "text/plain": [
       "(1345, 7)"
      ]
     },
     "execution_count": 62,
     "metadata": {},
     "output_type": "execute_result"
    }
   ],
   "source": [
    "dfs.shape"
   ]
  },
  {
   "cell_type": "code",
   "execution_count": 63,
   "metadata": {
    "scrolled": false
   },
   "outputs": [],
   "source": [
    "out1 = []\n",
    "for i in dfs.values:\n",
    "    out1.append(list(i))\n",
    "#     break\n",
    "with open('temp.txt','w') as f:\n",
    "    f.write(str(out1))"
   ]
  },
  {
   "cell_type": "code",
   "execution_count": 27,
   "metadata": {
    "scrolled": false
   },
   "outputs": [
    {
     "data": {
      "text/plain": [
       "True"
      ]
     },
     "execution_count": 27,
     "metadata": {},
     "output_type": "execute_result"
    }
   ],
   "source": [
    "out1 == out2"
   ]
  },
  {
   "cell_type": "code",
   "execution_count": null,
   "metadata": {
    "collapsed": true
   },
   "outputs": [],
   "source": []
  }
 ],
 "metadata": {
  "hide_input": false,
  "kernelspec": {
   "display_name": "Python 2",
   "language": "python",
   "name": "python2"
  },
  "language_info": {
   "codemirror_mode": {
    "name": "ipython",
    "version": 2
   },
   "file_extension": ".py",
   "mimetype": "text/x-python",
   "name": "python",
   "nbconvert_exporter": "python",
   "pygments_lexer": "ipython2",
   "version": "2.7.13"
  },
  "varInspector": {
   "cols": {
    "lenName": 16,
    "lenType": 16,
    "lenVar": 40
   },
   "kernels_config": {
    "python": {
     "delete_cmd_postfix": "",
     "delete_cmd_prefix": "del ",
     "library": "var_list.py",
     "varRefreshCmd": "print(var_dic_list())"
    },
    "r": {
     "delete_cmd_postfix": ") ",
     "delete_cmd_prefix": "rm(",
     "library": "var_list.r",
     "varRefreshCmd": "cat(var_dic_list()) "
    }
   },
   "types_to_exclude": [
    "module",
    "function",
    "builtin_function_or_method",
    "instance",
    "_Feature"
   ],
   "window_display": false
  }
 },
 "nbformat": 4,
 "nbformat_minor": 2
}
